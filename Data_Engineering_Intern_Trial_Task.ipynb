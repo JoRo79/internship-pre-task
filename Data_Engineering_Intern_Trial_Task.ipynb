{
  "nbformat": 4,
  "nbformat_minor": 0,
  "metadata": {
    "colab": {
      "name": "Data_Engineering_Intern_Trial_Task.ipynb",
      "provenance": [],
      "collapsed_sections": [],
      "authorship_tag": "ABX9TyMAD2rp2BB4q8SxDS0f8BCI",
      "include_colab_link": true
    },
    "kernelspec": {
      "name": "python3",
      "display_name": "Python 3"
    },
    "language_info": {
      "name": "python"
    }
  },
  "cells": [
    {
      "cell_type": "markdown",
      "metadata": {
        "id": "view-in-github",
        "colab_type": "text"
      },
      "source": [
        "<a href=\"https://colab.research.google.com/github/JoRo79/internship-pre-task/blob/main/Data_Engineering_Intern_Trial_Task.ipynb\" target=\"_parent\"><img src=\"https://colab.research.google.com/assets/colab-badge.svg\" alt=\"Open In Colab\"/></a>"
      ]
    },
    {
      "cell_type": "code",
      "metadata": {
        "colab": {
          "base_uri": "https://localhost:8080/"
        },
        "id": "iEcABGT76mrt",
        "outputId": "746effa8-de04-43fc-81e8-ea098aeeea25"
      },
      "source": [
        "!pip install pycoingecko\n"
      ],
      "execution_count": null,
      "outputs": [
        {
          "output_type": "stream",
          "text": [
            "Collecting pycoingecko\n",
            "  Downloading https://files.pythonhosted.org/packages/3a/f9/bfda8a54a1a98983bed91b3b865dcbcefe1590f4d444b3f1e118d541d639/pycoingecko-2.1.0-py3-none-any.whl\n",
            "Requirement already satisfied: requests in /usr/local/lib/python3.7/dist-packages (from pycoingecko) (2.23.0)\n",
            "Requirement already satisfied: urllib3!=1.25.0,!=1.25.1,<1.26,>=1.21.1 in /usr/local/lib/python3.7/dist-packages (from requests->pycoingecko) (1.24.3)\n",
            "Requirement already satisfied: chardet<4,>=3.0.2 in /usr/local/lib/python3.7/dist-packages (from requests->pycoingecko) (3.0.4)\n",
            "Requirement already satisfied: idna<3,>=2.5 in /usr/local/lib/python3.7/dist-packages (from requests->pycoingecko) (2.10)\n",
            "Requirement already satisfied: certifi>=2017.4.17 in /usr/local/lib/python3.7/dist-packages (from requests->pycoingecko) (2020.12.5)\n",
            "Installing collected packages: pycoingecko\n",
            "Successfully installed pycoingecko-2.1.0\n"
          ],
          "name": "stdout"
        }
      ]
    },
    {
      "cell_type": "code",
      "metadata": {
        "id": "Ayets_CI7g55"
      },
      "source": [
        "from pycoingecko import CoinGeckoAPI \n",
        "import pandas as pd\n",
        "cg = CoinGeckoAPI()"
      ],
      "execution_count": null,
      "outputs": []
    },
    {
      "cell_type": "code",
      "metadata": {
        "id": "wm6Va91T7_1_"
      },
      "source": [
        "USDPRICE = cg.get_price(ids='ethereum', vs_currencies='usd')\n",
        "BTCPRICE = cg.get_price(ids='ethereum', vs_currencies='btc')"
      ],
      "execution_count": null,
      "outputs": []
    },
    {
      "cell_type": "code",
      "metadata": {
        "colab": {
          "base_uri": "https://localhost:8080/"
        },
        "id": "9YM1zyyRLRX1",
        "outputId": "37f529d8-4eb7-49d2-c429-33b23e03ce0d"
      },
      "source": [
        "print(USDPRICE)\n",
        "print(BTCPRICE)"
      ],
      "execution_count": null,
      "outputs": [
        {
          "output_type": "stream",
          "text": [
            "{'ethereum': {'usd': 2692.0}}\n",
            "{'ethereum': {'btc': 0.07465931}}\n"
          ],
          "name": "stdout"
        }
      ]
    },
    {
      "cell_type": "code",
      "metadata": {
        "colab": {
          "base_uri": "https://localhost:8080/"
        },
        "id": "yfyM7K77DjNg",
        "outputId": "747a0621-f188-49ab-86b5-de30af6c924c"
      },
      "source": [
        "cg.get_price(ids=['ethereum'], vs_currencies='usd')"
      ],
      "execution_count": null,
      "outputs": [
        {
          "output_type": "execute_result",
          "data": {
            "text/plain": [
              "{'ethereum': {'usd': 2692.0}}"
            ]
          },
          "metadata": {
            "tags": []
          },
          "execution_count": 7
        }
      ]
    },
    {
      "cell_type": "code",
      "metadata": {
        "colab": {
          "base_uri": "https://localhost:8080/"
        },
        "id": "o_wJ99p5JYa3",
        "outputId": "9906f084-7a4d-432b-ad77-9504d4b1de29"
      },
      "source": [
        "cg.get_price(ids='ethereum', vs_currencies='usd', include_market_cap='true', include_24hr_vol='true', include_24hr_change='true', include_last_updated_at='true')"
      ],
      "execution_count": null,
      "outputs": [
        {
          "output_type": "execute_result",
          "data": {
            "text/plain": [
              "{'ethereum': {'last_updated_at': 1622965652,\n",
              "  'usd': 2692.0,\n",
              "  'usd_24h_change': -3.9920213008101926,\n",
              "  'usd_24h_vol': 35621046872.4239,\n",
              "  'usd_market_cap': 311664558670.2101}}"
            ]
          },
          "metadata": {
            "tags": []
          },
          "execution_count": 8
        }
      ]
    },
    {
      "cell_type": "code",
      "metadata": {
        "id": "MhYbDyStM3Vf"
      },
      "source": [
        "coins = cg.get_coin_market_chart_by_id(id='ethereum',vs_currency='usd',days='1')\n",
        "duit = cg.get_coin_market_chart_by_id(id='ethereum',vs_currency='btc',days='1')"
      ],
      "execution_count": null,
      "outputs": []
    },
    {
      "cell_type": "code",
      "metadata": {
        "id": "peSy4u-iTUFy"
      },
      "source": [
        "data= pd.DataFrame(coins, columns=['prices'])\n",
        "data= data.tail(10)\n",
        "\n",
        "datax= pd.DataFrame(duit, columns=['prices'])\n",
        "datax= datax.tail(10)\n",
        "data= data.reset_index()\n",
        "datax= datax.reset_index()"
      ],
      "execution_count": null,
      "outputs": []
    },
    {
      "cell_type": "code",
      "metadata": {
        "colab": {
          "base_uri": "https://localhost:8080/"
        },
        "id": "epdZX056Zm3R",
        "outputId": "0197ea38-cb48-4b2b-effe-5ac022cabc9b"
      },
      "source": [
        "datax['prices']= datax['prices'].apply(str)\n",
        "datax['timestamp']= datax['prices'].str.split(',').str[0]\n",
        "datax['timestamp'] = datax['timestamp'].replace({'\\[':''},regex=True)\n",
        "y=datax['timestamp']\n",
        "y"
      ],
      "execution_count": null,
      "outputs": [
        {
          "output_type": "execute_result",
          "data": {
            "text/plain": [
              "0    1622963059036\n",
              "1    1622963346928\n",
              "2    1622963633517\n",
              "3    1622963990611\n",
              "4    1622964279724\n",
              "5    1622964574471\n",
              "6    1622964756333\n",
              "7    1622965171078\n",
              "8    1622965494565\n",
              "9    1622965652000\n",
              "Name: timestamp, dtype: object"
            ]
          },
          "metadata": {
            "tags": []
          },
          "execution_count": 11
        }
      ]
    },
    {
      "cell_type": "code",
      "metadata": {
        "colab": {
          "base_uri": "https://localhost:8080/"
        },
        "id": "nkzp-_uIa6oo",
        "outputId": "0e8b1c25-e5e7-4449-a06a-0e28de0df525"
      },
      "source": [
        "import datetime\n",
        "y= y.apply(int)\n",
        "time=[]\n",
        "\n",
        "for i in range(0,10,1):\n",
        "  ts= datetime.datetime.fromtimestamp(y[i]/1000)\n",
        "  datap= ts.strftime('%Y-%m-%d %H:%M:%S')\n",
        "  time.append(datap)\n",
        "  print(datap)"
      ],
      "execution_count": null,
      "outputs": [
        {
          "output_type": "stream",
          "text": [
            "2021-06-06 07:04:19\n",
            "2021-06-06 07:09:06\n",
            "2021-06-06 07:13:53\n",
            "2021-06-06 07:19:50\n",
            "2021-06-06 07:24:39\n",
            "2021-06-06 07:29:34\n",
            "2021-06-06 07:32:36\n",
            "2021-06-06 07:39:31\n",
            "2021-06-06 07:44:54\n",
            "2021-06-06 07:47:32\n"
          ],
          "name": "stdout"
        }
      ]
    },
    {
      "cell_type": "code",
      "metadata": {
        "colab": {
          "base_uri": "https://localhost:8080/",
          "height": 355
        },
        "id": "fmTADxJ9T60F",
        "outputId": "10a83104-8a59-4808-e159-a56ae9a84a04"
      },
      "source": [
        "timepo= pd.DataFrame(time, columns=['Timestamp'])\n",
        "timepo"
      ],
      "execution_count": null,
      "outputs": [
        {
          "output_type": "execute_result",
          "data": {
            "text/html": [
              "<div>\n",
              "<style scoped>\n",
              "    .dataframe tbody tr th:only-of-type {\n",
              "        vertical-align: middle;\n",
              "    }\n",
              "\n",
              "    .dataframe tbody tr th {\n",
              "        vertical-align: top;\n",
              "    }\n",
              "\n",
              "    .dataframe thead th {\n",
              "        text-align: right;\n",
              "    }\n",
              "</style>\n",
              "<table border=\"1\" class=\"dataframe\">\n",
              "  <thead>\n",
              "    <tr style=\"text-align: right;\">\n",
              "      <th></th>\n",
              "      <th>Timestamp</th>\n",
              "    </tr>\n",
              "  </thead>\n",
              "  <tbody>\n",
              "    <tr>\n",
              "      <th>0</th>\n",
              "      <td>2021-06-06 07:04:19</td>\n",
              "    </tr>\n",
              "    <tr>\n",
              "      <th>1</th>\n",
              "      <td>2021-06-06 07:09:06</td>\n",
              "    </tr>\n",
              "    <tr>\n",
              "      <th>2</th>\n",
              "      <td>2021-06-06 07:13:53</td>\n",
              "    </tr>\n",
              "    <tr>\n",
              "      <th>3</th>\n",
              "      <td>2021-06-06 07:19:50</td>\n",
              "    </tr>\n",
              "    <tr>\n",
              "      <th>4</th>\n",
              "      <td>2021-06-06 07:24:39</td>\n",
              "    </tr>\n",
              "    <tr>\n",
              "      <th>5</th>\n",
              "      <td>2021-06-06 07:29:34</td>\n",
              "    </tr>\n",
              "    <tr>\n",
              "      <th>6</th>\n",
              "      <td>2021-06-06 07:32:36</td>\n",
              "    </tr>\n",
              "    <tr>\n",
              "      <th>7</th>\n",
              "      <td>2021-06-06 07:39:31</td>\n",
              "    </tr>\n",
              "    <tr>\n",
              "      <th>8</th>\n",
              "      <td>2021-06-06 07:44:54</td>\n",
              "    </tr>\n",
              "    <tr>\n",
              "      <th>9</th>\n",
              "      <td>2021-06-06 07:47:32</td>\n",
              "    </tr>\n",
              "  </tbody>\n",
              "</table>\n",
              "</div>"
            ],
            "text/plain": [
              "             Timestamp\n",
              "0  2021-06-06 07:04:19\n",
              "1  2021-06-06 07:09:06\n",
              "2  2021-06-06 07:13:53\n",
              "3  2021-06-06 07:19:50\n",
              "4  2021-06-06 07:24:39\n",
              "5  2021-06-06 07:29:34\n",
              "6  2021-06-06 07:32:36\n",
              "7  2021-06-06 07:39:31\n",
              "8  2021-06-06 07:44:54\n",
              "9  2021-06-06 07:47:32"
            ]
          },
          "metadata": {
            "tags": []
          },
          "execution_count": 18
        }
      ]
    },
    {
      "cell_type": "code",
      "metadata": {
        "colab": {
          "base_uri": "https://localhost:8080/",
          "height": 355
        },
        "id": "daOQx_OdgJ6n",
        "outputId": "ac9a3a2f-d10e-45d3-9a28-baf39c39806d"
      },
      "source": [
        "test= pd.concat([data,datax,timepo],axis=1)\n",
        "test= test.drop(['index','timestamp'],axis=1)\n",
        "\n",
        "table= pd.DataFrame(test)\n",
        "table.columns.values[0]=\"usd\"\n",
        "table.columns.values[1]=\"BTC\"\n",
        "table.columns.values[2]=\"updated_at\"\n",
        "table"
      ],
      "execution_count": null,
      "outputs": [
        {
          "output_type": "execute_result",
          "data": {
            "text/html": [
              "<div>\n",
              "<style scoped>\n",
              "    .dataframe tbody tr th:only-of-type {\n",
              "        vertical-align: middle;\n",
              "    }\n",
              "\n",
              "    .dataframe tbody tr th {\n",
              "        vertical-align: top;\n",
              "    }\n",
              "\n",
              "    .dataframe thead th {\n",
              "        text-align: right;\n",
              "    }\n",
              "</style>\n",
              "<table border=\"1\" class=\"dataframe\">\n",
              "  <thead>\n",
              "    <tr style=\"text-align: right;\">\n",
              "      <th></th>\n",
              "      <th>usd</th>\n",
              "      <th>BTC</th>\n",
              "      <th>updated_at</th>\n",
              "    </tr>\n",
              "  </thead>\n",
              "  <tbody>\n",
              "    <tr>\n",
              "      <th>0</th>\n",
              "      <td>[1622963059036, 2672.7364908758873]</td>\n",
              "      <td>[1622963059036, 0.07438582685502856]</td>\n",
              "      <td>2021-06-06 07:04:19</td>\n",
              "    </tr>\n",
              "    <tr>\n",
              "      <th>1</th>\n",
              "      <td>[1622963346928, 2672.9044537316945]</td>\n",
              "      <td>[1622963346928, 0.07438958589388935]</td>\n",
              "      <td>2021-06-06 07:09:06</td>\n",
              "    </tr>\n",
              "    <tr>\n",
              "      <th>2</th>\n",
              "      <td>[1622963633517, 2672.2875812399407]</td>\n",
              "      <td>[1622963633517, 0.07440323442482273]</td>\n",
              "      <td>2021-06-06 07:13:53</td>\n",
              "    </tr>\n",
              "    <tr>\n",
              "      <th>3</th>\n",
              "      <td>[1622963990611, 2674.747641220151]</td>\n",
              "      <td>[1622963990611, 0.07442219320489707]</td>\n",
              "      <td>2021-06-06 07:19:50</td>\n",
              "    </tr>\n",
              "    <tr>\n",
              "      <th>4</th>\n",
              "      <td>[1622964279724, 2680.125708041162]</td>\n",
              "      <td>[1622964279724, 0.07456807022772072]</td>\n",
              "      <td>2021-06-06 07:24:39</td>\n",
              "    </tr>\n",
              "    <tr>\n",
              "      <th>5</th>\n",
              "      <td>[1622964574471, 2679.616955440459]</td>\n",
              "      <td>[1622964574471, 0.07454455247408764]</td>\n",
              "      <td>2021-06-06 07:29:34</td>\n",
              "    </tr>\n",
              "    <tr>\n",
              "      <th>6</th>\n",
              "      <td>[1622964756333, 2676.8415023133784]</td>\n",
              "      <td>[1622964756333, 0.07448624769555931]</td>\n",
              "      <td>2021-06-06 07:32:36</td>\n",
              "    </tr>\n",
              "    <tr>\n",
              "      <th>7</th>\n",
              "      <td>[1622965171078, 2682.669672796767]</td>\n",
              "      <td>[1622965171078, 0.07453868106845339]</td>\n",
              "      <td>2021-06-06 07:39:31</td>\n",
              "    </tr>\n",
              "    <tr>\n",
              "      <th>8</th>\n",
              "      <td>[1622965494565, 2691.720393434195]</td>\n",
              "      <td>[1622965494565, 0.07466021833367908]</td>\n",
              "      <td>2021-06-06 07:44:54</td>\n",
              "    </tr>\n",
              "    <tr>\n",
              "      <th>9</th>\n",
              "      <td>[1622965652000, 2692.0011822445886]</td>\n",
              "      <td>[1622965652000, 0.07465930899868004]</td>\n",
              "      <td>2021-06-06 07:47:32</td>\n",
              "    </tr>\n",
              "  </tbody>\n",
              "</table>\n",
              "</div>"
            ],
            "text/plain": [
              "                                   usd  ...           updated_at\n",
              "0  [1622963059036, 2672.7364908758873]  ...  2021-06-06 07:04:19\n",
              "1  [1622963346928, 2672.9044537316945]  ...  2021-06-06 07:09:06\n",
              "2  [1622963633517, 2672.2875812399407]  ...  2021-06-06 07:13:53\n",
              "3   [1622963990611, 2674.747641220151]  ...  2021-06-06 07:19:50\n",
              "4   [1622964279724, 2680.125708041162]  ...  2021-06-06 07:24:39\n",
              "5   [1622964574471, 2679.616955440459]  ...  2021-06-06 07:29:34\n",
              "6  [1622964756333, 2676.8415023133784]  ...  2021-06-06 07:32:36\n",
              "7   [1622965171078, 2682.669672796767]  ...  2021-06-06 07:39:31\n",
              "8   [1622965494565, 2691.720393434195]  ...  2021-06-06 07:44:54\n",
              "9  [1622965652000, 2692.0011822445886]  ...  2021-06-06 07:47:32\n",
              "\n",
              "[10 rows x 3 columns]"
            ]
          },
          "metadata": {
            "tags": []
          },
          "execution_count": 19
        }
      ]
    },
    {
      "cell_type": "code",
      "metadata": {
        "colab": {
          "base_uri": "https://localhost:8080/",
          "height": 355
        },
        "id": "U2OOe_1WqWqG",
        "outputId": "81b5a23a-976e-41bd-b091-06c8c18abe81"
      },
      "source": [
        "table['usd']= table['usd'].apply(str)\n",
        "table['usd'] = table['usd'].str.split(',').str[1]\n",
        "table['usd'] = table['usd'].replace({']':''},regex=True)\n",
        "table"
      ],
      "execution_count": null,
      "outputs": [
        {
          "output_type": "execute_result",
          "data": {
            "text/html": [
              "<div>\n",
              "<style scoped>\n",
              "    .dataframe tbody tr th:only-of-type {\n",
              "        vertical-align: middle;\n",
              "    }\n",
              "\n",
              "    .dataframe tbody tr th {\n",
              "        vertical-align: top;\n",
              "    }\n",
              "\n",
              "    .dataframe thead th {\n",
              "        text-align: right;\n",
              "    }\n",
              "</style>\n",
              "<table border=\"1\" class=\"dataframe\">\n",
              "  <thead>\n",
              "    <tr style=\"text-align: right;\">\n",
              "      <th></th>\n",
              "      <th>usd</th>\n",
              "      <th>BTC</th>\n",
              "      <th>updated_at</th>\n",
              "    </tr>\n",
              "  </thead>\n",
              "  <tbody>\n",
              "    <tr>\n",
              "      <th>0</th>\n",
              "      <td>2672.7364908758873</td>\n",
              "      <td>[1622963059036, 0.07438582685502856]</td>\n",
              "      <td>2021-06-06 07:04:19</td>\n",
              "    </tr>\n",
              "    <tr>\n",
              "      <th>1</th>\n",
              "      <td>2672.9044537316945</td>\n",
              "      <td>[1622963346928, 0.07438958589388935]</td>\n",
              "      <td>2021-06-06 07:09:06</td>\n",
              "    </tr>\n",
              "    <tr>\n",
              "      <th>2</th>\n",
              "      <td>2672.2875812399407</td>\n",
              "      <td>[1622963633517, 0.07440323442482273]</td>\n",
              "      <td>2021-06-06 07:13:53</td>\n",
              "    </tr>\n",
              "    <tr>\n",
              "      <th>3</th>\n",
              "      <td>2674.747641220151</td>\n",
              "      <td>[1622963990611, 0.07442219320489707]</td>\n",
              "      <td>2021-06-06 07:19:50</td>\n",
              "    </tr>\n",
              "    <tr>\n",
              "      <th>4</th>\n",
              "      <td>2680.125708041162</td>\n",
              "      <td>[1622964279724, 0.07456807022772072]</td>\n",
              "      <td>2021-06-06 07:24:39</td>\n",
              "    </tr>\n",
              "    <tr>\n",
              "      <th>5</th>\n",
              "      <td>2679.616955440459</td>\n",
              "      <td>[1622964574471, 0.07454455247408764]</td>\n",
              "      <td>2021-06-06 07:29:34</td>\n",
              "    </tr>\n",
              "    <tr>\n",
              "      <th>6</th>\n",
              "      <td>2676.8415023133784</td>\n",
              "      <td>[1622964756333, 0.07448624769555931]</td>\n",
              "      <td>2021-06-06 07:32:36</td>\n",
              "    </tr>\n",
              "    <tr>\n",
              "      <th>7</th>\n",
              "      <td>2682.669672796767</td>\n",
              "      <td>[1622965171078, 0.07453868106845339]</td>\n",
              "      <td>2021-06-06 07:39:31</td>\n",
              "    </tr>\n",
              "    <tr>\n",
              "      <th>8</th>\n",
              "      <td>2691.720393434195</td>\n",
              "      <td>[1622965494565, 0.07466021833367908]</td>\n",
              "      <td>2021-06-06 07:44:54</td>\n",
              "    </tr>\n",
              "    <tr>\n",
              "      <th>9</th>\n",
              "      <td>2692.0011822445886</td>\n",
              "      <td>[1622965652000, 0.07465930899868004]</td>\n",
              "      <td>2021-06-06 07:47:32</td>\n",
              "    </tr>\n",
              "  </tbody>\n",
              "</table>\n",
              "</div>"
            ],
            "text/plain": [
              "                   usd  ...           updated_at\n",
              "0   2672.7364908758873  ...  2021-06-06 07:04:19\n",
              "1   2672.9044537316945  ...  2021-06-06 07:09:06\n",
              "2   2672.2875812399407  ...  2021-06-06 07:13:53\n",
              "3    2674.747641220151  ...  2021-06-06 07:19:50\n",
              "4    2680.125708041162  ...  2021-06-06 07:24:39\n",
              "5    2679.616955440459  ...  2021-06-06 07:29:34\n",
              "6   2676.8415023133784  ...  2021-06-06 07:32:36\n",
              "7    2682.669672796767  ...  2021-06-06 07:39:31\n",
              "8    2691.720393434195  ...  2021-06-06 07:44:54\n",
              "9   2692.0011822445886  ...  2021-06-06 07:47:32\n",
              "\n",
              "[10 rows x 3 columns]"
            ]
          },
          "metadata": {
            "tags": []
          },
          "execution_count": 20
        }
      ]
    },
    {
      "cell_type": "code",
      "metadata": {
        "colab": {
          "base_uri": "https://localhost:8080/",
          "height": 355
        },
        "id": "Gf5Qx6joqYTG",
        "outputId": "effd8496-2428-4068-9708-2820a2fe03df"
      },
      "source": [
        "table['BTC']= table['BTC'].apply(str)\n",
        "table['BTC'] = table['BTC'].str.split(',').str[1]\n",
        "table['BTC'] = table['BTC'].replace({']':''},regex=True)\n",
        "\n",
        "table"
      ],
      "execution_count": null,
      "outputs": [
        {
          "output_type": "execute_result",
          "data": {
            "text/html": [
              "<div>\n",
              "<style scoped>\n",
              "    .dataframe tbody tr th:only-of-type {\n",
              "        vertical-align: middle;\n",
              "    }\n",
              "\n",
              "    .dataframe tbody tr th {\n",
              "        vertical-align: top;\n",
              "    }\n",
              "\n",
              "    .dataframe thead th {\n",
              "        text-align: right;\n",
              "    }\n",
              "</style>\n",
              "<table border=\"1\" class=\"dataframe\">\n",
              "  <thead>\n",
              "    <tr style=\"text-align: right;\">\n",
              "      <th></th>\n",
              "      <th>usd</th>\n",
              "      <th>BTC</th>\n",
              "      <th>updated_at</th>\n",
              "    </tr>\n",
              "  </thead>\n",
              "  <tbody>\n",
              "    <tr>\n",
              "      <th>0</th>\n",
              "      <td>2672.7364908758873</td>\n",
              "      <td>0.07438582685502856</td>\n",
              "      <td>2021-06-06 07:04:19</td>\n",
              "    </tr>\n",
              "    <tr>\n",
              "      <th>1</th>\n",
              "      <td>2672.9044537316945</td>\n",
              "      <td>0.07438958589388935</td>\n",
              "      <td>2021-06-06 07:09:06</td>\n",
              "    </tr>\n",
              "    <tr>\n",
              "      <th>2</th>\n",
              "      <td>2672.2875812399407</td>\n",
              "      <td>0.07440323442482273</td>\n",
              "      <td>2021-06-06 07:13:53</td>\n",
              "    </tr>\n",
              "    <tr>\n",
              "      <th>3</th>\n",
              "      <td>2674.747641220151</td>\n",
              "      <td>0.07442219320489707</td>\n",
              "      <td>2021-06-06 07:19:50</td>\n",
              "    </tr>\n",
              "    <tr>\n",
              "      <th>4</th>\n",
              "      <td>2680.125708041162</td>\n",
              "      <td>0.07456807022772072</td>\n",
              "      <td>2021-06-06 07:24:39</td>\n",
              "    </tr>\n",
              "    <tr>\n",
              "      <th>5</th>\n",
              "      <td>2679.616955440459</td>\n",
              "      <td>0.07454455247408764</td>\n",
              "      <td>2021-06-06 07:29:34</td>\n",
              "    </tr>\n",
              "    <tr>\n",
              "      <th>6</th>\n",
              "      <td>2676.8415023133784</td>\n",
              "      <td>0.07448624769555931</td>\n",
              "      <td>2021-06-06 07:32:36</td>\n",
              "    </tr>\n",
              "    <tr>\n",
              "      <th>7</th>\n",
              "      <td>2682.669672796767</td>\n",
              "      <td>0.07453868106845339</td>\n",
              "      <td>2021-06-06 07:39:31</td>\n",
              "    </tr>\n",
              "    <tr>\n",
              "      <th>8</th>\n",
              "      <td>2691.720393434195</td>\n",
              "      <td>0.07466021833367908</td>\n",
              "      <td>2021-06-06 07:44:54</td>\n",
              "    </tr>\n",
              "    <tr>\n",
              "      <th>9</th>\n",
              "      <td>2692.0011822445886</td>\n",
              "      <td>0.07465930899868004</td>\n",
              "      <td>2021-06-06 07:47:32</td>\n",
              "    </tr>\n",
              "  </tbody>\n",
              "</table>\n",
              "</div>"
            ],
            "text/plain": [
              "                   usd                   BTC           updated_at\n",
              "0   2672.7364908758873   0.07438582685502856  2021-06-06 07:04:19\n",
              "1   2672.9044537316945   0.07438958589388935  2021-06-06 07:09:06\n",
              "2   2672.2875812399407   0.07440323442482273  2021-06-06 07:13:53\n",
              "3    2674.747641220151   0.07442219320489707  2021-06-06 07:19:50\n",
              "4    2680.125708041162   0.07456807022772072  2021-06-06 07:24:39\n",
              "5    2679.616955440459   0.07454455247408764  2021-06-06 07:29:34\n",
              "6   2676.8415023133784   0.07448624769555931  2021-06-06 07:32:36\n",
              "7    2682.669672796767   0.07453868106845339  2021-06-06 07:39:31\n",
              "8    2691.720393434195   0.07466021833367908  2021-06-06 07:44:54\n",
              "9   2692.0011822445886   0.07465930899868004  2021-06-06 07:47:32"
            ]
          },
          "metadata": {
            "tags": []
          },
          "execution_count": 21
        }
      ]
    },
    {
      "cell_type": "code",
      "metadata": {
        "id": "3cHHhoDR19mF"
      },
      "source": [
        "table.to_csv (r'C:\\Users\\user\\Desktop\\export_dataframe.csv', index = True, header=True)"
      ],
      "execution_count": null,
      "outputs": []
    }
  ]
}