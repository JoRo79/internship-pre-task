{
  "nbformat": 4,
  "nbformat_minor": 0,
  "metadata": {
    "colab": {
      "name": "Data Engineering Intern Trial Task.ipynb",
      "provenance": [],
      "collapsed_sections": [],
      "authorship_tag": "ABX9TyN2/9y3iE0aRH1QFJc86eGl",
      "include_colab_link": true
    },
    "kernelspec": {
      "name": "python3",
      "display_name": "Python 3"
    },
    "language_info": {
      "name": "python"
    }
  },
  "cells": [
    {
      "cell_type": "markdown",
      "metadata": {
        "id": "view-in-github",
        "colab_type": "text"
      },
      "source": [
        "<a href=\"https://colab.research.google.com/github/JoRo79/internship-pre-task/blob/main/Data_Engineering_Intern_Trial_Task.ipynb\" target=\"_parent\"><img src=\"https://colab.research.google.com/assets/colab-badge.svg\" alt=\"Open In Colab\"/></a>"
      ]
    },
    {
      "cell_type": "code",
      "metadata": {
        "colab": {
          "base_uri": "https://localhost:8080/"
        },
        "id": "iEcABGT76mrt",
        "outputId": "f0afeed5-9f96-4e9c-ac2e-0a8fa06161fa"
      },
      "source": [
        "!pip install pycoingecko\n"
      ],
      "execution_count": null,
      "outputs": [
        {
          "output_type": "stream",
          "text": [
            "Requirement already satisfied: pycoingecko in /usr/local/lib/python3.7/dist-packages (2.0.0)\n",
            "Requirement already satisfied: requests in /usr/local/lib/python3.7/dist-packages (from pycoingecko) (2.23.0)\n",
            "Requirement already satisfied: urllib3!=1.25.0,!=1.25.1,<1.26,>=1.21.1 in /usr/local/lib/python3.7/dist-packages (from requests->pycoingecko) (1.24.3)\n",
            "Requirement already satisfied: chardet<4,>=3.0.2 in /usr/local/lib/python3.7/dist-packages (from requests->pycoingecko) (3.0.4)\n",
            "Requirement already satisfied: idna<3,>=2.5 in /usr/local/lib/python3.7/dist-packages (from requests->pycoingecko) (2.10)\n",
            "Requirement already satisfied: certifi>=2017.4.17 in /usr/local/lib/python3.7/dist-packages (from requests->pycoingecko) (2020.12.5)\n"
          ],
          "name": "stdout"
        }
      ]
    },
    {
      "cell_type": "code",
      "metadata": {
        "id": "Ayets_CI7g55"
      },
      "source": [
        "from pycoingecko import CoinGeckoAPI \n",
        "import pandas as pd\n",
        "cg = CoinGeckoAPI()"
      ],
      "execution_count": null,
      "outputs": []
    },
    {
      "cell_type": "code",
      "metadata": {
        "id": "wm6Va91T7_1_"
      },
      "source": [
        "USDPRICE = cg.get_price(ids='ethereum', vs_currencies='usd')\n",
        "BTCPRICE = cg.get_price(ids='ethereum', vs_currencies='btc')"
      ],
      "execution_count": null,
      "outputs": []
    },
    {
      "cell_type": "code",
      "metadata": {
        "colab": {
          "base_uri": "https://localhost:8080/"
        },
        "id": "9YM1zyyRLRX1",
        "outputId": "818633b2-376d-45bf-b644-cb27bc553105"
      },
      "source": [
        "print(USDPRICE)\n",
        "print(BTCPRICE)"
      ],
      "execution_count": null,
      "outputs": [
        {
          "output_type": "stream",
          "text": [
            "{'ethereum': {'usd': 2838.84}}\n",
            "{'ethereum': {'btc': 0.0731011}}\n"
          ],
          "name": "stdout"
        }
      ]
    },
    {
      "cell_type": "code",
      "metadata": {
        "colab": {
          "base_uri": "https://localhost:8080/"
        },
        "id": "yfyM7K77DjNg",
        "outputId": "2bdc4a22-edc4-4e76-d8ba-bfc413bc0447"
      },
      "source": [
        "cg.get_price(ids=['ethereum'], vs_currencies='usd')"
      ],
      "execution_count": null,
      "outputs": [
        {
          "output_type": "execute_result",
          "data": {
            "text/plain": [
              "{'ethereum': {'usd': 2838.84}}"
            ]
          },
          "metadata": {
            "tags": []
          },
          "execution_count": 103
        }
      ]
    },
    {
      "cell_type": "code",
      "metadata": {
        "colab": {
          "base_uri": "https://localhost:8080/"
        },
        "id": "o_wJ99p5JYa3",
        "outputId": "75dddd9f-2c96-4b0d-f2c3-150de7080ad8"
      },
      "source": [
        "cg.get_price(ids='ethereum', vs_currencies='usd', include_market_cap='true', include_24hr_vol='true', include_24hr_change='true', include_last_updated_at='true')"
      ],
      "execution_count": null,
      "outputs": [
        {
          "output_type": "execute_result",
          "data": {
            "text/plain": [
              "{'ethereum': {'last_updated_at': 1622704887,\n",
              "  'usd': 2838.84,\n",
              "  'usd_24h_change': 6.1166416606993,\n",
              "  'usd_24h_vol': 38455961000.0001,\n",
              "  'usd_market_cap': 329385737813.9505}}"
            ]
          },
          "metadata": {
            "tags": []
          },
          "execution_count": 104
        }
      ]
    },
    {
      "cell_type": "code",
      "metadata": {
        "id": "MhYbDyStM3Vf"
      },
      "source": [
        "coins = cg.get_coin_market_chart_by_id(id='ethereum',vs_currency='usd',days='1')\n",
        "duit = cg.get_coin_market_chart_by_id(id='ethereum',vs_currency='btc',days='1')"
      ],
      "execution_count": null,
      "outputs": []
    },
    {
      "cell_type": "code",
      "metadata": {
        "id": "peSy4u-iTUFy"
      },
      "source": [
        "data= pd.DataFrame(coins, columns=['prices'])\n",
        "data= data.tail(10)\n",
        "\n",
        "datax= pd.DataFrame(duit, columns=['prices'])\n",
        "datax= datax.tail(10)\n",
        "data= data.reset_index()\n",
        "datax= datax.reset_index()"
      ],
      "execution_count": null,
      "outputs": []
    },
    {
      "cell_type": "code",
      "metadata": {
        "colab": {
          "base_uri": "https://localhost:8080/"
        },
        "id": "epdZX056Zm3R",
        "outputId": "7df37d66-0e60-45e8-a93d-f16e64b6182b"
      },
      "source": [
        "datax['prices']= datax['prices'].apply(str)\n",
        "datax['timestamp']= datax['prices'].str.split(',').str[0]\n",
        "datax['timestamp'] = datax['timestamp'].replace({'\\[':''},regex=True)\n",
        "y=datax['timestamp']\n",
        "y"
      ],
      "execution_count": null,
      "outputs": [
        {
          "output_type": "execute_result",
          "data": {
            "text/plain": [
              "0    1622697847318\n",
              "1    1622698186961\n",
              "2    1622698485630\n",
              "3    1622698819343\n",
              "4    1622699076550\n",
              "5    1622699397018\n",
              "6    1622699673949\n",
              "7    1622699964688\n",
              "8    1622700348726\n",
              "9    1622700348000\n",
              "Name: timestamp, dtype: object"
            ]
          },
          "metadata": {
            "tags": []
          },
          "execution_count": 117
        }
      ]
    },
    {
      "cell_type": "code",
      "metadata": {
        "colab": {
          "base_uri": "https://localhost:8080/"
        },
        "id": "nkzp-_uIa6oo",
        "outputId": "03259e1f-cc25-45cb-f1c6-ad6ac73aaef1"
      },
      "source": [
        "import datetime\n",
        "y= y.apply(int)\n",
        "time=[]\n",
        "\n",
        "for i in range(0,10,1):\n",
        "  ts= datetime.datetime.fromtimestamp(y[i]/1000)\n",
        "  datap= ts.strftime('%Y-%m-%d %H:%M:%S')\n",
        "  time.append(datap)\n",
        "  print(datap)"
      ],
      "execution_count": null,
      "outputs": [
        {
          "output_type": "stream",
          "text": [
            "2021-06-03 05:24:07\n",
            "2021-06-03 05:29:46\n",
            "2021-06-03 05:34:45\n",
            "2021-06-03 05:40:19\n",
            "2021-06-03 05:44:36\n",
            "2021-06-03 05:49:57\n",
            "2021-06-03 05:54:33\n",
            "2021-06-03 05:59:24\n",
            "2021-06-03 06:05:48\n",
            "2021-06-03 06:05:48\n"
          ],
          "name": "stdout"
        }
      ]
    },
    {
      "cell_type": "code",
      "metadata": {
        "colab": {
          "base_uri": "https://localhost:8080/",
          "height": 359
        },
        "id": "daOQx_OdgJ6n",
        "outputId": "4c44c26e-edb3-4be1-ef8f-237c167d7aff"
      },
      "source": [
        "test= pd.concat([data,datax,tiempo],axis=1)\n",
        "test= test.drop(['index','timestamp'],axis=1)\n",
        "\n",
        "table= pd.DataFrame(test)\n",
        "table.columns.values[0]=\"usd\"\n",
        "table.columns.values[1]=\"BTC\"\n",
        "table.columns.values[2]=\"updated_at\"\n",
        "table"
      ],
      "execution_count": null,
      "outputs": [
        {
          "output_type": "execute_result",
          "data": {
            "text/html": [
              "<div>\n",
              "<style scoped>\n",
              "    .dataframe tbody tr th:only-of-type {\n",
              "        vertical-align: middle;\n",
              "    }\n",
              "\n",
              "    .dataframe tbody tr th {\n",
              "        vertical-align: top;\n",
              "    }\n",
              "\n",
              "    .dataframe thead th {\n",
              "        text-align: right;\n",
              "    }\n",
              "</style>\n",
              "<table border=\"1\" class=\"dataframe\">\n",
              "  <thead>\n",
              "    <tr style=\"text-align: right;\">\n",
              "      <th></th>\n",
              "      <th>usd</th>\n",
              "      <th>BTC</th>\n",
              "      <th>updated_at</th>\n",
              "    </tr>\n",
              "  </thead>\n",
              "  <tbody>\n",
              "    <tr>\n",
              "      <th>0</th>\n",
              "      <td>[1622697571298, 2797.550523934794]</td>\n",
              "      <td>[1622697847318, 0.07298829204374913]</td>\n",
              "      <td>2021-06-03 05:24:07</td>\n",
              "    </tr>\n",
              "    <tr>\n",
              "      <th>1</th>\n",
              "      <td>[1622697847318, 2799.3040047633667]</td>\n",
              "      <td>[1622698186961, 0.07285841007678646]</td>\n",
              "      <td>2021-06-03 05:29:46</td>\n",
              "    </tr>\n",
              "    <tr>\n",
              "      <th>2</th>\n",
              "      <td>[1622698186961, 2793.4683849967096]</td>\n",
              "      <td>[1622698485630, 0.07275278877914045]</td>\n",
              "      <td>2021-06-03 05:34:45</td>\n",
              "    </tr>\n",
              "    <tr>\n",
              "      <th>3</th>\n",
              "      <td>[1622698485630, 2786.9514768475865]</td>\n",
              "      <td>[1622698819343, 0.07274369827040462]</td>\n",
              "      <td>2021-06-03 05:40:19</td>\n",
              "    </tr>\n",
              "    <tr>\n",
              "      <th>4</th>\n",
              "      <td>[1622698819343, 2793.5632736124685]</td>\n",
              "      <td>[1622699076550, 0.072979304668782]</td>\n",
              "      <td>2021-06-03 05:44:36</td>\n",
              "    </tr>\n",
              "    <tr>\n",
              "      <th>5</th>\n",
              "      <td>[1622699076550, 2810.8186485440074]</td>\n",
              "      <td>[1622699397018, 0.07290064555619544]</td>\n",
              "      <td>2021-06-03 05:49:57</td>\n",
              "    </tr>\n",
              "    <tr>\n",
              "      <th>6</th>\n",
              "      <td>[1622699397018, 2826.021455318357]</td>\n",
              "      <td>[1622699673949, 0.07276473348549276]</td>\n",
              "      <td>2021-06-03 05:54:33</td>\n",
              "    </tr>\n",
              "    <tr>\n",
              "      <th>7</th>\n",
              "      <td>[1622699673949, 2817.5505124298106]</td>\n",
              "      <td>[1622699964688, 0.07275798585932564]</td>\n",
              "      <td>2021-06-03 05:59:24</td>\n",
              "    </tr>\n",
              "    <tr>\n",
              "      <th>8</th>\n",
              "      <td>[1622699964688, 2823.0642502755823]</td>\n",
              "      <td>[1622700348726, 0.07271653181372607]</td>\n",
              "      <td>2021-06-03 06:05:48</td>\n",
              "    </tr>\n",
              "    <tr>\n",
              "      <th>9</th>\n",
              "      <td>[1622700247000, 2822.4554649931624]</td>\n",
              "      <td>[1622700348000, 0.07271653181372607]</td>\n",
              "      <td>2021-06-03 06:05:48</td>\n",
              "    </tr>\n",
              "  </tbody>\n",
              "</table>\n",
              "</div>"
            ],
            "text/plain": [
              "                                   usd  ...           updated_at\n",
              "0   [1622697571298, 2797.550523934794]  ...  2021-06-03 05:24:07\n",
              "1  [1622697847318, 2799.3040047633667]  ...  2021-06-03 05:29:46\n",
              "2  [1622698186961, 2793.4683849967096]  ...  2021-06-03 05:34:45\n",
              "3  [1622698485630, 2786.9514768475865]  ...  2021-06-03 05:40:19\n",
              "4  [1622698819343, 2793.5632736124685]  ...  2021-06-03 05:44:36\n",
              "5  [1622699076550, 2810.8186485440074]  ...  2021-06-03 05:49:57\n",
              "6   [1622699397018, 2826.021455318357]  ...  2021-06-03 05:54:33\n",
              "7  [1622699673949, 2817.5505124298106]  ...  2021-06-03 05:59:24\n",
              "8  [1622699964688, 2823.0642502755823]  ...  2021-06-03 06:05:48\n",
              "9  [1622700247000, 2822.4554649931624]  ...  2021-06-03 06:05:48\n",
              "\n",
              "[10 rows x 3 columns]"
            ]
          },
          "metadata": {
            "tags": []
          },
          "execution_count": 126
        }
      ]
    },
    {
      "cell_type": "code",
      "metadata": {
        "colab": {
          "base_uri": "https://localhost:8080/",
          "height": 359
        },
        "id": "U2OOe_1WqWqG",
        "outputId": "41964c91-2227-4a2d-8e57-4d1ca296579f"
      },
      "source": [
        "table['usd']= table['usd'].apply(str)\n",
        "table['usd'] = table['usd'].str.split(',').str[1]\n",
        "table['usd'] = table['usd'].replace({']':''},regex=True)\n",
        "table"
      ],
      "execution_count": null,
      "outputs": [
        {
          "output_type": "execute_result",
          "data": {
            "text/html": [
              "<div>\n",
              "<style scoped>\n",
              "    .dataframe tbody tr th:only-of-type {\n",
              "        vertical-align: middle;\n",
              "    }\n",
              "\n",
              "    .dataframe tbody tr th {\n",
              "        vertical-align: top;\n",
              "    }\n",
              "\n",
              "    .dataframe thead th {\n",
              "        text-align: right;\n",
              "    }\n",
              "</style>\n",
              "<table border=\"1\" class=\"dataframe\">\n",
              "  <thead>\n",
              "    <tr style=\"text-align: right;\">\n",
              "      <th></th>\n",
              "      <th>usd</th>\n",
              "      <th>BTC</th>\n",
              "      <th>updated_at</th>\n",
              "    </tr>\n",
              "  </thead>\n",
              "  <tbody>\n",
              "    <tr>\n",
              "      <th>0</th>\n",
              "      <td>2797.550523934794</td>\n",
              "      <td>[1622697847318, 0.07298829204374913]</td>\n",
              "      <td>2021-06-03 05:24:07</td>\n",
              "    </tr>\n",
              "    <tr>\n",
              "      <th>1</th>\n",
              "      <td>2799.3040047633667</td>\n",
              "      <td>[1622698186961, 0.07285841007678646]</td>\n",
              "      <td>2021-06-03 05:29:46</td>\n",
              "    </tr>\n",
              "    <tr>\n",
              "      <th>2</th>\n",
              "      <td>2793.4683849967096</td>\n",
              "      <td>[1622698485630, 0.07275278877914045]</td>\n",
              "      <td>2021-06-03 05:34:45</td>\n",
              "    </tr>\n",
              "    <tr>\n",
              "      <th>3</th>\n",
              "      <td>2786.9514768475865</td>\n",
              "      <td>[1622698819343, 0.07274369827040462]</td>\n",
              "      <td>2021-06-03 05:40:19</td>\n",
              "    </tr>\n",
              "    <tr>\n",
              "      <th>4</th>\n",
              "      <td>2793.5632736124685</td>\n",
              "      <td>[1622699076550, 0.072979304668782]</td>\n",
              "      <td>2021-06-03 05:44:36</td>\n",
              "    </tr>\n",
              "    <tr>\n",
              "      <th>5</th>\n",
              "      <td>2810.8186485440074</td>\n",
              "      <td>[1622699397018, 0.07290064555619544]</td>\n",
              "      <td>2021-06-03 05:49:57</td>\n",
              "    </tr>\n",
              "    <tr>\n",
              "      <th>6</th>\n",
              "      <td>2826.021455318357</td>\n",
              "      <td>[1622699673949, 0.07276473348549276]</td>\n",
              "      <td>2021-06-03 05:54:33</td>\n",
              "    </tr>\n",
              "    <tr>\n",
              "      <th>7</th>\n",
              "      <td>2817.5505124298106</td>\n",
              "      <td>[1622699964688, 0.07275798585932564]</td>\n",
              "      <td>2021-06-03 05:59:24</td>\n",
              "    </tr>\n",
              "    <tr>\n",
              "      <th>8</th>\n",
              "      <td>2823.0642502755823</td>\n",
              "      <td>[1622700348726, 0.07271653181372607]</td>\n",
              "      <td>2021-06-03 06:05:48</td>\n",
              "    </tr>\n",
              "    <tr>\n",
              "      <th>9</th>\n",
              "      <td>2822.4554649931624</td>\n",
              "      <td>[1622700348000, 0.07271653181372607]</td>\n",
              "      <td>2021-06-03 06:05:48</td>\n",
              "    </tr>\n",
              "  </tbody>\n",
              "</table>\n",
              "</div>"
            ],
            "text/plain": [
              "                   usd  ...           updated_at\n",
              "0    2797.550523934794  ...  2021-06-03 05:24:07\n",
              "1   2799.3040047633667  ...  2021-06-03 05:29:46\n",
              "2   2793.4683849967096  ...  2021-06-03 05:34:45\n",
              "3   2786.9514768475865  ...  2021-06-03 05:40:19\n",
              "4   2793.5632736124685  ...  2021-06-03 05:44:36\n",
              "5   2810.8186485440074  ...  2021-06-03 05:49:57\n",
              "6    2826.021455318357  ...  2021-06-03 05:54:33\n",
              "7   2817.5505124298106  ...  2021-06-03 05:59:24\n",
              "8   2823.0642502755823  ...  2021-06-03 06:05:48\n",
              "9   2822.4554649931624  ...  2021-06-03 06:05:48\n",
              "\n",
              "[10 rows x 3 columns]"
            ]
          },
          "metadata": {
            "tags": []
          },
          "execution_count": 127
        }
      ]
    },
    {
      "cell_type": "code",
      "metadata": {
        "colab": {
          "base_uri": "https://localhost:8080/",
          "height": 359
        },
        "id": "Gf5Qx6joqYTG",
        "outputId": "e3eeefa4-1828-4fcc-cdaf-fc55952b9c4c"
      },
      "source": [
        "table['BTC']= table['BTC'].apply(str)\n",
        "table['BTC'] = table['BTC'].str.split(',').str[1]\n",
        "table['BTC'] = table['BTC'].replace({']':''},regex=True)\n",
        "\n",
        "table"
      ],
      "execution_count": null,
      "outputs": [
        {
          "output_type": "execute_result",
          "data": {
            "text/html": [
              "<div>\n",
              "<style scoped>\n",
              "    .dataframe tbody tr th:only-of-type {\n",
              "        vertical-align: middle;\n",
              "    }\n",
              "\n",
              "    .dataframe tbody tr th {\n",
              "        vertical-align: top;\n",
              "    }\n",
              "\n",
              "    .dataframe thead th {\n",
              "        text-align: right;\n",
              "    }\n",
              "</style>\n",
              "<table border=\"1\" class=\"dataframe\">\n",
              "  <thead>\n",
              "    <tr style=\"text-align: right;\">\n",
              "      <th></th>\n",
              "      <th>usd</th>\n",
              "      <th>BTC</th>\n",
              "      <th>updated_at</th>\n",
              "    </tr>\n",
              "  </thead>\n",
              "  <tbody>\n",
              "    <tr>\n",
              "      <th>0</th>\n",
              "      <td>2797.550523934794</td>\n",
              "      <td>0.07298829204374913</td>\n",
              "      <td>2021-06-03 05:24:07</td>\n",
              "    </tr>\n",
              "    <tr>\n",
              "      <th>1</th>\n",
              "      <td>2799.3040047633667</td>\n",
              "      <td>0.07285841007678646</td>\n",
              "      <td>2021-06-03 05:29:46</td>\n",
              "    </tr>\n",
              "    <tr>\n",
              "      <th>2</th>\n",
              "      <td>2793.4683849967096</td>\n",
              "      <td>0.07275278877914045</td>\n",
              "      <td>2021-06-03 05:34:45</td>\n",
              "    </tr>\n",
              "    <tr>\n",
              "      <th>3</th>\n",
              "      <td>2786.9514768475865</td>\n",
              "      <td>0.07274369827040462</td>\n",
              "      <td>2021-06-03 05:40:19</td>\n",
              "    </tr>\n",
              "    <tr>\n",
              "      <th>4</th>\n",
              "      <td>2793.5632736124685</td>\n",
              "      <td>0.072979304668782</td>\n",
              "      <td>2021-06-03 05:44:36</td>\n",
              "    </tr>\n",
              "    <tr>\n",
              "      <th>5</th>\n",
              "      <td>2810.8186485440074</td>\n",
              "      <td>0.07290064555619544</td>\n",
              "      <td>2021-06-03 05:49:57</td>\n",
              "    </tr>\n",
              "    <tr>\n",
              "      <th>6</th>\n",
              "      <td>2826.021455318357</td>\n",
              "      <td>0.07276473348549276</td>\n",
              "      <td>2021-06-03 05:54:33</td>\n",
              "    </tr>\n",
              "    <tr>\n",
              "      <th>7</th>\n",
              "      <td>2817.5505124298106</td>\n",
              "      <td>0.07275798585932564</td>\n",
              "      <td>2021-06-03 05:59:24</td>\n",
              "    </tr>\n",
              "    <tr>\n",
              "      <th>8</th>\n",
              "      <td>2823.0642502755823</td>\n",
              "      <td>0.07271653181372607</td>\n",
              "      <td>2021-06-03 06:05:48</td>\n",
              "    </tr>\n",
              "    <tr>\n",
              "      <th>9</th>\n",
              "      <td>2822.4554649931624</td>\n",
              "      <td>0.07271653181372607</td>\n",
              "      <td>2021-06-03 06:05:48</td>\n",
              "    </tr>\n",
              "  </tbody>\n",
              "</table>\n",
              "</div>"
            ],
            "text/plain": [
              "                   usd                   BTC           updated_at\n",
              "0    2797.550523934794   0.07298829204374913  2021-06-03 05:24:07\n",
              "1   2799.3040047633667   0.07285841007678646  2021-06-03 05:29:46\n",
              "2   2793.4683849967096   0.07275278877914045  2021-06-03 05:34:45\n",
              "3   2786.9514768475865   0.07274369827040462  2021-06-03 05:40:19\n",
              "4   2793.5632736124685     0.072979304668782  2021-06-03 05:44:36\n",
              "5   2810.8186485440074   0.07290064555619544  2021-06-03 05:49:57\n",
              "6    2826.021455318357   0.07276473348549276  2021-06-03 05:54:33\n",
              "7   2817.5505124298106   0.07275798585932564  2021-06-03 05:59:24\n",
              "8   2823.0642502755823   0.07271653181372607  2021-06-03 06:05:48\n",
              "9   2822.4554649931624   0.07271653181372607  2021-06-03 06:05:48"
            ]
          },
          "metadata": {
            "tags": []
          },
          "execution_count": 128
        }
      ]
    },
    {
      "cell_type": "code",
      "metadata": {
        "id": "3cHHhoDR19mF"
      },
      "source": [
        "crypto.to_csv (r'D:\\export_dataframe.csv', index = True, header=True)"
      ],
      "execution_count": null,
      "outputs": []
    }
  ]
}